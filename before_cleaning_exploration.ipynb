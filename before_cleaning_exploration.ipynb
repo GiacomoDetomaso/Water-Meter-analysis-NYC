{
 "cells": [
  {
   "cell_type": "markdown",
   "metadata": {},
   "source": [
    "# Exploration - Base Dataset"
   ]
  },
  {
   "cell_type": "code",
   "execution_count": 1,
   "metadata": {},
   "outputs": [],
   "source": [
    "import pandas as pd\n",
    "import numpy as np"
   ]
  },
  {
   "cell_type": "code",
   "execution_count": 2,
   "metadata": {},
   "outputs": [],
   "source": [
    "dataset = pd.read_csv('./data/dataset.csv')"
   ]
  },
  {
   "cell_type": "code",
   "execution_count": 3,
   "metadata": {},
   "outputs": [
    {
     "name": "stdout",
     "output_type": "stream",
     "text": [
      "<class 'pandas.core.frame.DataFrame'>\n",
      "RangeIndex: 34627 entries, 0 to 34626\n",
      "Data columns (total 25 columns):\n",
      " #   Column               Non-Null Count  Dtype  \n",
      "---  ------               --------------  -----  \n",
      " 0   Development Name     34620 non-null  object \n",
      " 1   Borough              34627 non-null  object \n",
      " 2   Account Name         34627 non-null  object \n",
      " 3   Location             34365 non-null  object \n",
      " 4   Meter AMR            34575 non-null  object \n",
      " 5   Meter Scope          8585 non-null   object \n",
      " 6   TDS #                34620 non-null  float64\n",
      " 7   EDP                  34627 non-null  int64  \n",
      " 8   RC Code              34627 non-null  object \n",
      " 9   Funding Source       34551 non-null  object \n",
      " 10  AMP #                34618 non-null  object \n",
      " 11  Vendor Name          34627 non-null  object \n",
      " 12  UMIS BILL ID         34627 non-null  int64  \n",
      " 13  Revenue Month        34627 non-null  object \n",
      " 14  Service Start Date   34627 non-null  object \n",
      " 15  Service End Date     34627 non-null  object \n",
      " 16  # days               34627 non-null  object \n",
      " 17  Meter Number         34627 non-null  object \n",
      " 18  Estimated            34627 non-null  object \n",
      " 19  Current Charges      34627 non-null  object \n",
      " 20  Rate Class           34624 non-null  object \n",
      " 21  Bill Analyzed        34627 non-null  object \n",
      " 22  Consumption (HCF)    34627 non-null  object \n",
      " 23  Water&Sewer Charges  34627 non-null  object \n",
      " 24  Other Charges        34627 non-null  object \n",
      "dtypes: float64(1), int64(2), object(22)\n",
      "memory usage: 6.6+ MB\n"
     ]
    }
   ],
   "source": [
    "dataset.info()"
   ]
  },
  {
   "cell_type": "markdown",
   "metadata": {},
   "source": [
    "Values about cost and consumption are considered object. This situation will be fixed.\n",
    "\n",
    "*Note: basic statistics will be showed after a first stage of preprocessing.*"
   ]
  },
  {
   "cell_type": "markdown",
   "metadata": {},
   "source": [
    "The dataset, as it is, **describe a single water consumption** as per [Nyc open data doc](https://data.cityofnewyork.us/Housing-Development/Water-Consumption-And-Cost-2013-Feb-2023-/66be-66yr). Before starting our **data preparation** step, let's analyze the current situation. Let's start by identifying columns that contains null values. We will start to pre-process our data from these columns."
   ]
  },
  {
   "cell_type": "code",
   "execution_count": 4,
   "metadata": {},
   "outputs": [
    {
     "data": {
      "text/plain": [
       "Development Name        7\n",
       "Location              262\n",
       "Meter AMR              52\n",
       "Meter Scope         26042\n",
       "TDS #                   7\n",
       "Funding Source         76\n",
       "AMP #                   9\n",
       "Rate Class              3\n",
       "dtype: int64"
      ]
     },
     "execution_count": 4,
     "metadata": {},
     "output_type": "execute_result"
    }
   ],
   "source": [
    "nulls = dataset.isna().sum()\n",
    "nulls[nulls != 0]"
   ]
  },
  {
   "cell_type": "markdown",
   "metadata": {},
   "source": [
    "The number of null values of meter-scope is very high. The feature will likely be removed."
   ]
  },
  {
   "cell_type": "markdown",
   "metadata": {},
   "source": [
    "## Location investigation\n",
    "\n",
    "Let's start by extracting a sub-dataframe that contains null values for location, in order to inspect them and derive some strategy to their management."
   ]
  },
  {
   "cell_type": "code",
   "execution_count": 5,
   "metadata": {},
   "outputs": [
    {
     "name": "stdout",
     "output_type": "stream",
     "text": [
      "<class 'pandas.core.frame.DataFrame'>\n",
      "Index: 262 entries, 22329 to 34527\n",
      "Data columns (total 8 columns):\n",
      " #   Column            Non-Null Count  Dtype  \n",
      "---  ------            --------------  -----  \n",
      " 0   Development Name  262 non-null    object \n",
      " 1   Location          0 non-null      object \n",
      " 2   Meter AMR         260 non-null    object \n",
      " 3   Meter Scope       0 non-null      object \n",
      " 4   TDS #             262 non-null    float64\n",
      " 5   Funding Source    262 non-null    object \n",
      " 6   AMP #             260 non-null    object \n",
      " 7   Rate Class        260 non-null    object \n",
      "dtypes: float64(1), object(7)\n",
      "memory usage: 18.4+ KB\n"
     ]
    }
   ],
   "source": [
    "null_location_data = dataset[dataset['Location'].isna()]\n",
    "null_location_data[nulls[nulls != 0].index].info()"
   ]
  },
  {
   "cell_type": "markdown",
   "metadata": {},
   "source": [
    "Fortunately, there aren't null values for TDS (which is the identifier of a development). The main problem here is that a <u>building is identified by location + TDS</u> and with missing values of locations, we can't identify a specific building inside the development. \n",
    "\n",
    "Let's investigate further. We want to understand whether we can discard these rows."
   ]
  },
  {
   "cell_type": "code",
   "execution_count": 6,
   "metadata": {},
   "outputs": [],
   "source": [
    "tds_null_loc_count_df = null_location_data['TDS #'].value_counts()"
   ]
  },
  {
   "cell_type": "markdown",
   "metadata": {},
   "source": [
    "Here we want to check if every NaN location is associated with the same TDS."
   ]
  },
  {
   "cell_type": "code",
   "execution_count": 7,
   "metadata": {},
   "outputs": [
    {
     "data": {
      "text/html": [
       "<div>\n",
       "<style scoped>\n",
       "    .dataframe tbody tr th:only-of-type {\n",
       "        vertical-align: middle;\n",
       "    }\n",
       "\n",
       "    .dataframe tbody tr th {\n",
       "        vertical-align: top;\n",
       "    }\n",
       "\n",
       "    .dataframe thead th {\n",
       "        text-align: right;\n",
       "    }\n",
       "</style>\n",
       "<table border=\"1\" class=\"dataframe\">\n",
       "  <thead>\n",
       "    <tr style=\"text-align: right;\">\n",
       "      <th></th>\n",
       "      <th>Null</th>\n",
       "      <th>Not_Null</th>\n",
       "    </tr>\n",
       "    <tr>\n",
       "      <th>TDS #</th>\n",
       "      <th></th>\n",
       "      <th></th>\n",
       "    </tr>\n",
       "  </thead>\n",
       "  <tbody>\n",
       "    <tr>\n",
       "      <th>4.0</th>\n",
       "      <td>1</td>\n",
       "      <td>108</td>\n",
       "    </tr>\n",
       "    <tr>\n",
       "      <th>51.0</th>\n",
       "      <td>229</td>\n",
       "      <td>0</td>\n",
       "    </tr>\n",
       "    <tr>\n",
       "      <th>209.0</th>\n",
       "      <td>3</td>\n",
       "      <td>2542</td>\n",
       "    </tr>\n",
       "    <tr>\n",
       "      <th>212.0</th>\n",
       "      <td>9</td>\n",
       "      <td>1622</td>\n",
       "    </tr>\n",
       "    <tr>\n",
       "      <th>226.0</th>\n",
       "      <td>3</td>\n",
       "      <td>1369</td>\n",
       "    </tr>\n",
       "    <tr>\n",
       "      <th>260.0</th>\n",
       "      <td>6</td>\n",
       "      <td>3242</td>\n",
       "    </tr>\n",
       "    <tr>\n",
       "      <th>274.0</th>\n",
       "      <td>3</td>\n",
       "      <td>958</td>\n",
       "    </tr>\n",
       "    <tr>\n",
       "      <th>284.0</th>\n",
       "      <td>8</td>\n",
       "      <td>2121</td>\n",
       "    </tr>\n",
       "  </tbody>\n",
       "</table>\n",
       "</div>"
      ],
      "text/plain": [
       "       Null  Not_Null\n",
       "TDS #                \n",
       "4.0       1       108\n",
       "51.0    229         0\n",
       "209.0     3      2542\n",
       "212.0     9      1622\n",
       "226.0     3      1369\n",
       "260.0     6      3242\n",
       "274.0     3       958\n",
       "284.0     8      2121"
      ]
     },
     "execution_count": 7,
     "metadata": {},
     "output_type": "execute_result"
    }
   ],
   "source": [
    "# We want to filter the rows that contains TDS # values equals to the ones associated null location \n",
    "condition = np.isin(dataset['TDS #'], tds_null_loc_count_df.index.to_numpy())\n",
    "\n",
    "dataset[condition][['Location', 'TDS #']].groupby(by='TDS #').aggregate(\n",
    "    Null=('Location', lambda x: x.isna().sum()),\n",
    "    Not_Null=('Location', lambda x: x.notnull().sum())\n",
    ")"
   ]
  },
  {
   "cell_type": "markdown",
   "metadata": {},
   "source": [
    "As we can see: \n",
    "- Every TDS number (from the ones that have at least one null location associated) has non-null locations associated;\n",
    "- The only TDS # made only by null location is #51."
   ]
  },
  {
   "cell_type": "markdown",
   "metadata": {},
   "source": [
    "## TDS investigation\n",
    "\n",
    "Let's see this null values of TDS what represents."
   ]
  },
  {
   "cell_type": "code",
   "execution_count": 8,
   "metadata": {},
   "outputs": [
    {
     "data": {
      "text/html": [
       "<div>\n",
       "<style scoped>\n",
       "    .dataframe tbody tr th:only-of-type {\n",
       "        vertical-align: middle;\n",
       "    }\n",
       "\n",
       "    .dataframe tbody tr th {\n",
       "        vertical-align: top;\n",
       "    }\n",
       "\n",
       "    .dataframe thead th {\n",
       "        text-align: right;\n",
       "    }\n",
       "</style>\n",
       "<table border=\"1\" class=\"dataframe\">\n",
       "  <thead>\n",
       "    <tr style=\"text-align: right;\">\n",
       "      <th></th>\n",
       "      <th>Account Name</th>\n",
       "      <th>AMP #</th>\n",
       "      <th>RC Code</th>\n",
       "      <th>Location</th>\n",
       "      <th>Borough</th>\n",
       "      <th>EDP</th>\n",
       "    </tr>\n",
       "  </thead>\n",
       "  <tbody>\n",
       "    <tr>\n",
       "      <th>33294</th>\n",
       "      <td>NDF - CENTRAL MAINTENANCE SHOP, 23 ASH ST</td>\n",
       "      <td>NaN</td>\n",
       "      <td>9900622</td>\n",
       "      <td>BLD 01</td>\n",
       "      <td>NON DEVELOPMENT FACILITY</td>\n",
       "      <td>999</td>\n",
       "    </tr>\n",
       "    <tr>\n",
       "      <th>33295</th>\n",
       "      <td>NDF - CENTRAL MAINTENANCE SHOP, 23 ASH ST</td>\n",
       "      <td>NaN</td>\n",
       "      <td>9900622</td>\n",
       "      <td>BLD 01</td>\n",
       "      <td>NON DEVELOPMENT FACILITY</td>\n",
       "      <td>999</td>\n",
       "    </tr>\n",
       "    <tr>\n",
       "      <th>33296</th>\n",
       "      <td>NDF - CENTRAL MAINTENANCE SHOP, 23 ASH ST</td>\n",
       "      <td>NaN</td>\n",
       "      <td>9900622</td>\n",
       "      <td>BLD 01</td>\n",
       "      <td>NON DEVELOPMENT FACILITY</td>\n",
       "      <td>999</td>\n",
       "    </tr>\n",
       "    <tr>\n",
       "      <th>33297</th>\n",
       "      <td>NDF - CENTRAL MAINTENANCE SHOP, 23 ASH ST</td>\n",
       "      <td>NaN</td>\n",
       "      <td>9900622</td>\n",
       "      <td>BLD 01</td>\n",
       "      <td>NON DEVELOPMENT FACILITY</td>\n",
       "      <td>999</td>\n",
       "    </tr>\n",
       "    <tr>\n",
       "      <th>33902</th>\n",
       "      <td>NDF - CENTRAL MAINTENANCE SHOP, 23 ASH ST</td>\n",
       "      <td>NaN</td>\n",
       "      <td>9900622</td>\n",
       "      <td>BLD 01</td>\n",
       "      <td>NON DEVELOPMENT FACILITY</td>\n",
       "      <td>999</td>\n",
       "    </tr>\n",
       "    <tr>\n",
       "      <th>34216</th>\n",
       "      <td>NDF - CENTRAL MAINTENANCE SHOP, 23 ASH ST</td>\n",
       "      <td>NaN</td>\n",
       "      <td>9900622</td>\n",
       "      <td>BLD 01</td>\n",
       "      <td>NON DEVELOPMENT FACILITY</td>\n",
       "      <td>999</td>\n",
       "    </tr>\n",
       "    <tr>\n",
       "      <th>34524</th>\n",
       "      <td>NDF - CENTRAL MAINTENANCE SHOP, 23 ASH ST</td>\n",
       "      <td>NaN</td>\n",
       "      <td>9900622</td>\n",
       "      <td>BLD 01</td>\n",
       "      <td>NON DEVELOPMENT FACILITY</td>\n",
       "      <td>999</td>\n",
       "    </tr>\n",
       "  </tbody>\n",
       "</table>\n",
       "</div>"
      ],
      "text/plain": [
       "                                    Account Name AMP #  RC Code Location  \\\n",
       "33294  NDF - CENTRAL MAINTENANCE SHOP, 23 ASH ST   NaN  9900622   BLD 01   \n",
       "33295  NDF - CENTRAL MAINTENANCE SHOP, 23 ASH ST   NaN  9900622   BLD 01   \n",
       "33296  NDF - CENTRAL MAINTENANCE SHOP, 23 ASH ST   NaN  9900622   BLD 01   \n",
       "33297  NDF - CENTRAL MAINTENANCE SHOP, 23 ASH ST   NaN  9900622   BLD 01   \n",
       "33902  NDF - CENTRAL MAINTENANCE SHOP, 23 ASH ST   NaN  9900622   BLD 01   \n",
       "34216  NDF - CENTRAL MAINTENANCE SHOP, 23 ASH ST   NaN  9900622   BLD 01   \n",
       "34524  NDF - CENTRAL MAINTENANCE SHOP, 23 ASH ST   NaN  9900622   BLD 01   \n",
       "\n",
       "                        Borough  EDP  \n",
       "33294  NON DEVELOPMENT FACILITY  999  \n",
       "33295  NON DEVELOPMENT FACILITY  999  \n",
       "33296  NON DEVELOPMENT FACILITY  999  \n",
       "33297  NON DEVELOPMENT FACILITY  999  \n",
       "33902  NON DEVELOPMENT FACILITY  999  \n",
       "34216  NON DEVELOPMENT FACILITY  999  \n",
       "34524  NON DEVELOPMENT FACILITY  999  "
      ]
     },
     "execution_count": 8,
     "metadata": {},
     "output_type": "execute_result"
    }
   ],
   "source": [
    "dataset[dataset['TDS #'].isna()][\n",
    "    ['Account Name', 'AMP #', 'RC Code', 'Location', 'Borough', 'EDP']\n",
    "]"
   ]
  },
  {
   "cell_type": "markdown",
   "metadata": {},
   "source": [
    "As we can see: \n",
    "- Borough is not null and is listed as non-development-facility\n",
    "- RC Code and EDP are set both to the same value for each entry. The value looks like a placeholder.\n",
    "\n",
    "A solution is to not discard these null TDS #. We'll assign them a placeholder value like EDP one. Let's just see if there are other TDS  # associated with a borough listed like NON DEVELOPMENT FACILITY."
   ]
  },
  {
   "cell_type": "code",
   "execution_count": 9,
   "metadata": {},
   "outputs": [
    {
     "data": {
      "text/plain": [
       "33294   NaN\n",
       "33295   NaN\n",
       "33296   NaN\n",
       "33297   NaN\n",
       "33902   NaN\n",
       "34216   NaN\n",
       "34524   NaN\n",
       "Name: TDS #, dtype: float64"
      ]
     },
     "execution_count": 9,
     "metadata": {},
     "output_type": "execute_result"
    }
   ],
   "source": [
    "dataset[dataset['Borough'] == 'NON DEVELOPMENT FACILITY']['TDS #']"
   ]
  },
  {
   "cell_type": "markdown",
   "metadata": {},
   "source": [
    "We can then proceed to assign TDS # == 999 for these kind of rows, since they are identified like non development facility."
   ]
  },
  {
   "cell_type": "markdown",
   "metadata": {},
   "source": [
    "## Borough investigation\n"
   ]
  },
  {
   "cell_type": "code",
   "execution_count": 10,
   "metadata": {},
   "outputs": [
    {
     "data": {
      "text/plain": [
       "Borough\n",
       "FHA                         16302\n",
       "BROOKLYN                     6334\n",
       "MANHATTAN                    5661\n",
       "BRONX                        3339\n",
       "QUEENS                       2904\n",
       "STATEN ISLAND                  80\n",
       "NON DEVELOPMENT FACILITY        7\n",
       "Name: count, dtype: int64"
      ]
     },
     "execution_count": 10,
     "metadata": {},
     "output_type": "execute_result"
    }
   ],
   "source": [
    "dataset['Borough'].value_counts()"
   ]
  },
  {
   "cell_type": "markdown",
   "metadata": {},
   "source": [
    "The classic NYC boroughs are present, and we understood the meaning of NON DEVELOPMENT FACILITY. But, what exactly is FHA? A really fast research indicates the meaning of this [acronym](https://en.wikipedia.org/wiki/Federal_Housing_Administration). This means that a development's lender under FHA is protected against defaults on property's owner mortgage."
   ]
  },
  {
   "cell_type": "markdown",
   "metadata": {},
   "source": [
    "## Funding source investigation"
   ]
  },
  {
   "cell_type": "markdown",
   "metadata": {},
   "source": [
    "Let's see how values are distributed under this feature."
   ]
  },
  {
   "cell_type": "code",
   "execution_count": 11,
   "metadata": {},
   "outputs": [
    {
     "data": {
      "text/plain": [
       "Funding Source\n",
       "FEDERAL               31048\n",
       "MIXED FINANCE/LLC1     2915\n",
       "MHOP                    436\n",
       "MIXED FINANCE/LLC2      118\n",
       "SECTION 8                27\n",
       "NON-DEVELOPMENT           7\n",
       "Name: count, dtype: int64"
      ]
     },
     "execution_count": 11,
     "metadata": {},
     "output_type": "execute_result"
    }
   ],
   "source": [
    "dataset['Funding Source'].value_counts()"
   ]
  },
  {
   "cell_type": "markdown",
   "metadata": {},
   "source": [
    "Let's derive a dataframe to inspect with the VS code Data Wrangler tool."
   ]
  },
  {
   "cell_type": "code",
   "execution_count": 12,
   "metadata": {},
   "outputs": [
    {
     "name": "stdout",
     "output_type": "stream",
     "text": [
      "<class 'pandas.core.frame.DataFrame'>\n",
      "Index: 76 entries, 21219 to 21294\n",
      "Data columns (total 25 columns):\n",
      " #   Column               Non-Null Count  Dtype  \n",
      "---  ------               --------------  -----  \n",
      " 0   Development Name     76 non-null     object \n",
      " 1   Borough              76 non-null     object \n",
      " 2   Account Name         76 non-null     object \n",
      " 3   Location             76 non-null     object \n",
      " 4   Meter AMR            76 non-null     object \n",
      " 5   Meter Scope          0 non-null      object \n",
      " 6   TDS #                76 non-null     float64\n",
      " 7   EDP                  76 non-null     int64  \n",
      " 8   RC Code              76 non-null     object \n",
      " 9   Funding Source       0 non-null      object \n",
      " 10  AMP #                76 non-null     object \n",
      " 11  Vendor Name          76 non-null     object \n",
      " 12  UMIS BILL ID         76 non-null     int64  \n",
      " 13  Revenue Month        76 non-null     object \n",
      " 14  Service Start Date   76 non-null     object \n",
      " 15  Service End Date     76 non-null     object \n",
      " 16  # days               76 non-null     object \n",
      " 17  Meter Number         76 non-null     object \n",
      " 18  Estimated            76 non-null     object \n",
      " 19  Current Charges      76 non-null     object \n",
      " 20  Rate Class           76 non-null     object \n",
      " 21  Bill Analyzed        76 non-null     object \n",
      " 22  Consumption (HCF)    76 non-null     object \n",
      " 23  Water&Sewer Charges  76 non-null     object \n",
      " 24  Other Charges        76 non-null     object \n",
      "dtypes: float64(1), int64(2), object(22)\n",
      "memory usage: 15.4+ KB\n"
     ]
    }
   ],
   "source": [
    "null_funding_source_df = dataset[dataset['Funding Source'].isna()]\n",
    "null_funding_source_df.info()"
   ]
  },
  {
   "cell_type": "code",
   "execution_count": 13,
   "metadata": {},
   "outputs": [
    {
     "data": {
      "text/plain": [
       "Borough   TDS #  Location\n",
       "BROOKLYN  14.0   BLD 35      76\n",
       "Name: count, dtype: int64"
      ]
     },
     "execution_count": 13,
     "metadata": {},
     "output_type": "execute_result"
    }
   ],
   "source": [
    "null_funding_source_df[['Borough', 'TDS #', 'Location']].value_counts()"
   ]
  },
  {
   "cell_type": "markdown",
   "metadata": {},
   "source": [
    "As we can see: \n",
    "- Borough and TDS and location is the exact same;\n",
    "- There aren't null values for the other dimension.\n",
    "\n",
    "We will classify this unknown funding source as 'other'. It will not harm the analysis doing so, since the situation is restricted to the same development."
   ]
  },
  {
   "cell_type": "markdown",
   "metadata": {},
   "source": [
    "## Meter AMR investigation"
   ]
  },
  {
   "cell_type": "code",
   "execution_count": 14,
   "metadata": {},
   "outputs": [
    {
     "data": {
      "text/plain": [
       "Meter AMR\n",
       "AMR     30000\n",
       "NONE     4575\n",
       "Name: count, dtype: int64"
      ]
     },
     "execution_count": 14,
     "metadata": {},
     "output_type": "execute_result"
    }
   ],
   "source": [
    "dataset['Meter AMR'].value_counts()"
   ]
  },
  {
   "cell_type": "markdown",
   "metadata": {},
   "source": [
    "It looks like we do not have any information about Interval Meters. This feature will be therefore turned into a boolean one, indicating whether the meter is AMR or not."
   ]
  },
  {
   "cell_type": "markdown",
   "metadata": {},
   "source": [
    "## Meter number + location investigation and treatment"
   ]
  },
  {
   "cell_type": "markdown",
   "metadata": {},
   "source": [
    "- **Assumption**: <u>every different meters serve a single building</u>, while every different building could be served by multiple meters\n",
    "\n",
    "The **task** here is to check if this assumptions holds. Please read [this](https://www.nyc.gov/site/dep/pay-my-bills/water-meter-faqs.page)."
   ]
  },
  {
   "cell_type": "code",
   "execution_count": 15,
   "metadata": {},
   "outputs": [
    {
     "data": {
      "text/plain": [
       "Meter Number\n",
       "UN-METERED    170\n",
       "E20453242      87\n",
       "V83029959      87\n",
       "E19354370      87\n",
       "I13011093      86\n",
       "             ... \n",
       "E15139971       1\n",
       "O78610245       1\n",
       "O78106269       1\n",
       "R22742332       1\n",
       "R32896781       1\n",
       "Name: count, Length: 738, dtype: int64"
      ]
     },
     "execution_count": 15,
     "metadata": {},
     "output_type": "execute_result"
    }
   ],
   "source": [
    "unique_meters_series = dataset.loc[:, 'Meter Number'].value_counts()\n",
    "\n",
    "unique_meters_series"
   ]
  },
  {
   "cell_type": "markdown",
   "metadata": {},
   "source": [
    "As we can see there are 170 instances with an unknown meter number."
   ]
  },
  {
   "cell_type": "code",
   "execution_count": 16,
   "metadata": {},
   "outputs": [
    {
     "data": {
      "text/plain": [
       "TDS #  Location  Borough    Meter Number\n",
       "343.0  BLD 01    MANHATTAN  UN-METERED      66\n",
       "2.0    BLD 08    BROOKLYN   UN-METERED      61\n",
       "       BLD 01    BROOKLYN   UN-METERED      29\n",
       "37.0   BLD 01    MANHATTAN  UN-METERED      13\n",
       "377.0  BLD 02    MANHATTAN  UN-METERED       1\n",
       "Name: count, dtype: int64"
      ]
     },
     "execution_count": 16,
     "metadata": {},
     "output_type": "execute_result"
    }
   ],
   "source": [
    "dataset[dataset['Meter Number'] == 'UN-METERED'][\n",
    "    ['TDS #', 'Location', 'Borough', 'Meter Number']\n",
    "].value_counts()"
   ]
  },
  {
   "cell_type": "markdown",
   "metadata": {},
   "source": [
    "First of all we need to treat null locations. We would like to:\n",
    "1. Count how many (likely) **different** null locations there are, using meter number + TDS;\n",
    "2. Compare these counts with the number of instances associated to the **same meter number**, found at step 1), on the **whole dataset**. This is useful to make sure that these meters aren't associated with other buildings globally;"
   ]
  },
  {
   "cell_type": "code",
   "execution_count": 17,
   "metadata": {},
   "outputs": [
    {
     "name": "stdout",
     "output_type": "stream",
     "text": [
      "True\n"
     ]
    },
    {
     "data": {
      "text/html": [
       "<div>\n",
       "<style scoped>\n",
       "    .dataframe tbody tr th:only-of-type {\n",
       "        vertical-align: middle;\n",
       "    }\n",
       "\n",
       "    .dataframe tbody tr th {\n",
       "        vertical-align: top;\n",
       "    }\n",
       "\n",
       "    .dataframe thead th {\n",
       "        text-align: right;\n",
       "    }\n",
       "</style>\n",
       "<table border=\"1\" class=\"dataframe\">\n",
       "  <thead>\n",
       "    <tr style=\"text-align: right;\">\n",
       "      <th></th>\n",
       "      <th>Meter Number</th>\n",
       "      <th>TDS #</th>\n",
       "      <th>count</th>\n",
       "    </tr>\n",
       "  </thead>\n",
       "  <tbody>\n",
       "    <tr>\n",
       "      <th>0</th>\n",
       "      <td>N51387763</td>\n",
       "      <td>51.0</td>\n",
       "      <td>79</td>\n",
       "    </tr>\n",
       "    <tr>\n",
       "      <th>1</th>\n",
       "      <td>R32599613</td>\n",
       "      <td>51.0</td>\n",
       "      <td>50</td>\n",
       "    </tr>\n",
       "    <tr>\n",
       "      <th>2</th>\n",
       "      <td>N31677722</td>\n",
       "      <td>51.0</td>\n",
       "      <td>50</td>\n",
       "    </tr>\n",
       "    <tr>\n",
       "      <th>3</th>\n",
       "      <td>N51387759</td>\n",
       "      <td>51.0</td>\n",
       "      <td>50</td>\n",
       "    </tr>\n",
       "    <tr>\n",
       "      <th>4</th>\n",
       "      <td>N29849151</td>\n",
       "      <td>212.0</td>\n",
       "      <td>3</td>\n",
       "    </tr>\n",
       "    <tr>\n",
       "      <th>5</th>\n",
       "      <td>N29737078</td>\n",
       "      <td>212.0</td>\n",
       "      <td>3</td>\n",
       "    </tr>\n",
       "    <tr>\n",
       "      <th>6</th>\n",
       "      <td>N31034969</td>\n",
       "      <td>274.0</td>\n",
       "      <td>3</td>\n",
       "    </tr>\n",
       "    <tr>\n",
       "      <th>7</th>\n",
       "      <td>N30001947</td>\n",
       "      <td>212.0</td>\n",
       "      <td>3</td>\n",
       "    </tr>\n",
       "    <tr>\n",
       "      <th>8</th>\n",
       "      <td>N32038857</td>\n",
       "      <td>260.0</td>\n",
       "      <td>3</td>\n",
       "    </tr>\n",
       "    <tr>\n",
       "      <th>9</th>\n",
       "      <td>N31451478</td>\n",
       "      <td>226.0</td>\n",
       "      <td>3</td>\n",
       "    </tr>\n",
       "    <tr>\n",
       "      <th>10</th>\n",
       "      <td>N31156555</td>\n",
       "      <td>284.0</td>\n",
       "      <td>3</td>\n",
       "    </tr>\n",
       "    <tr>\n",
       "      <th>11</th>\n",
       "      <td>N31046054</td>\n",
       "      <td>260.0</td>\n",
       "      <td>3</td>\n",
       "    </tr>\n",
       "    <tr>\n",
       "      <th>12</th>\n",
       "      <td>N31249066</td>\n",
       "      <td>209.0</td>\n",
       "      <td>3</td>\n",
       "    </tr>\n",
       "    <tr>\n",
       "      <th>13</th>\n",
       "      <td>N32346729</td>\n",
       "      <td>284.0</td>\n",
       "      <td>3</td>\n",
       "    </tr>\n",
       "    <tr>\n",
       "      <th>14</th>\n",
       "      <td>K96779329</td>\n",
       "      <td>284.0</td>\n",
       "      <td>2</td>\n",
       "    </tr>\n",
       "    <tr>\n",
       "      <th>15</th>\n",
       "      <td>K10339940</td>\n",
       "      <td>4.0</td>\n",
       "      <td>1</td>\n",
       "    </tr>\n",
       "  </tbody>\n",
       "</table>\n",
       "</div>"
      ],
      "text/plain": [
       "   Meter Number  TDS #  count\n",
       "0     N51387763   51.0     79\n",
       "1     R32599613   51.0     50\n",
       "2     N31677722   51.0     50\n",
       "3     N51387759   51.0     50\n",
       "4     N29849151  212.0      3\n",
       "5     N29737078  212.0      3\n",
       "6     N31034969  274.0      3\n",
       "7     N30001947  212.0      3\n",
       "8     N32038857  260.0      3\n",
       "9     N31451478  226.0      3\n",
       "10    N31156555  284.0      3\n",
       "11    N31046054  260.0      3\n",
       "12    N31249066  209.0      3\n",
       "13    N32346729  284.0      3\n",
       "14    K96779329  284.0      2\n",
       "15    K10339940    4.0      1"
      ]
     },
     "execution_count": 17,
     "metadata": {},
     "output_type": "execute_result"
    }
   ],
   "source": [
    "# The DataFrame will count the number of meters for every TDS associated with null locations\n",
    "meter_number_null_location_count_df = dataset[\n",
    "    dataset['Location'].isna() # consider null locations\n",
    "][['Meter Number', 'TDS #']].value_counts().reset_index()\n",
    "\n",
    "# Number of instances in the whole dataset for every meter whose meter_number \n",
    "# is equal to the one associated with null locations\n",
    "temp = dataset[\n",
    "    dataset['Meter Number'].isin(meter_number_null_location_count_df['Meter Number'])\n",
    "]['Meter Number'].value_counts()\n",
    "\n",
    "# Compare the count made considering null locations with the one made considering the whole dataset \n",
    "print((meter_number_null_location_count_df['count'].to_numpy() == temp.to_numpy()).all())\n",
    "meter_number_null_location_count_df"
   ]
  },
  {
   "cell_type": "markdown",
   "metadata": {},
   "source": [
    "- **Assumpion**: since there is no other way to be sure about how many different locations are marked with a NaN, we will assume that in this cases a single building instance is associated with a single meter.\n",
    "\n",
    "We can define the location mapping like \"location_i\" where \"i\" it's a progressive integer that changes every time the location changes, that is every time the meter number change."
   ]
  },
  {
   "cell_type": "code",
   "execution_count": 18,
   "metadata": {},
   "outputs": [],
   "source": [
    "# Define location mapping\n",
    "location_map = {\n",
    "    v: f'loc_{k}' for k, v in meter_number_null_location_count_df['Meter Number'].to_dict().items()\n",
    "}\n",
    "\n",
    "# Fill locations\n",
    "dataset.loc[dataset['Location'].isna(), 'Location'] = dataset \\\n",
    "                                                        .loc[dataset['Location'].isna(), 'Meter Number'] \\\n",
    "                                                        .map(location_map)\n",
    "\n",
    "# Fill TDS #\n",
    "dataset['TDS #'] = dataset['TDS #'].fillna(999)"
   ]
  },
  {
   "cell_type": "markdown",
   "metadata": {},
   "source": [
    "The following dataframe will basically count the number of instances associated at the triplet (Meter Number, TDS #, Location). To make the assumption true on the whole dataset we want to check if those triplets appear only one time."
   ]
  },
  {
   "cell_type": "code",
   "execution_count": 19,
   "metadata": {},
   "outputs": [
    {
     "data": {
      "text/html": [
       "<div>\n",
       "<style scoped>\n",
       "    .dataframe tbody tr th:only-of-type {\n",
       "        vertical-align: middle;\n",
       "    }\n",
       "\n",
       "    .dataframe tbody tr th {\n",
       "        vertical-align: top;\n",
       "    }\n",
       "\n",
       "    .dataframe thead th {\n",
       "        text-align: right;\n",
       "    }\n",
       "</style>\n",
       "<table border=\"1\" class=\"dataframe\">\n",
       "  <thead>\n",
       "    <tr style=\"text-align: right;\">\n",
       "      <th></th>\n",
       "      <th>Meter Number</th>\n",
       "      <th>TDS #</th>\n",
       "      <th>Location</th>\n",
       "      <th>count</th>\n",
       "    </tr>\n",
       "  </thead>\n",
       "  <tbody>\n",
       "    <tr>\n",
       "      <th>0</th>\n",
       "      <td>E20459024</td>\n",
       "      <td>1.0</td>\n",
       "      <td>BLD02 - STORE 6 &amp; 7</td>\n",
       "      <td>1</td>\n",
       "    </tr>\n",
       "    <tr>\n",
       "      <th>1</th>\n",
       "      <td>UN-METERED</td>\n",
       "      <td>2.0</td>\n",
       "      <td>BLD 01</td>\n",
       "      <td>29</td>\n",
       "    </tr>\n",
       "    <tr>\n",
       "      <th>2</th>\n",
       "      <td>V52268306</td>\n",
       "      <td>2.0</td>\n",
       "      <td>BLD 01</td>\n",
       "      <td>30</td>\n",
       "    </tr>\n",
       "    <tr>\n",
       "      <th>3</th>\n",
       "      <td>E19532293</td>\n",
       "      <td>2.0</td>\n",
       "      <td>BLD 08</td>\n",
       "      <td>2</td>\n",
       "    </tr>\n",
       "    <tr>\n",
       "      <th>4</th>\n",
       "      <td>UN-METERED</td>\n",
       "      <td>2.0</td>\n",
       "      <td>BLD 08</td>\n",
       "      <td>61</td>\n",
       "    </tr>\n",
       "  </tbody>\n",
       "</table>\n",
       "</div>"
      ],
      "text/plain": [
       "  Meter Number  TDS #             Location  count\n",
       "0    E20459024    1.0  BLD02 - STORE 6 & 7      1\n",
       "1   UN-METERED    2.0               BLD 01     29\n",
       "2    V52268306    2.0               BLD 01     30\n",
       "3    E19532293    2.0               BLD 08      2\n",
       "4   UN-METERED    2.0               BLD 08     61"
      ]
     },
     "execution_count": 19,
     "metadata": {},
     "output_type": "execute_result"
    }
   ],
   "source": [
    "meter_number_building_count_df = dataset \\\n",
    "                                    .groupby(by=['Meter Number', 'TDS #', 'Location']) \\\n",
    "                                        .agg(count=('Account Name', len)) \\\n",
    "                                        .sort_values(['TDS #', 'Location']) \\\n",
    "                                        .reset_index()\n",
    "                    \n",
    "meter_number_building_count_df.head()"
   ]
  },
  {
   "cell_type": "markdown",
   "metadata": {},
   "source": [
    "Here we extract a list of the meter associated to multiple buildings."
   ]
  },
  {
   "cell_type": "code",
   "execution_count": 20,
   "metadata": {},
   "outputs": [
    {
     "name": "stdout",
     "output_type": "stream",
     "text": [
      "['E20332250', 'G17004105', 'K12499916', 'K15834341', 'K15838320', 'N30898577']\n"
     ]
    },
    {
     "data": {
      "text/html": [
       "<div>\n",
       "<style scoped>\n",
       "    .dataframe tbody tr th:only-of-type {\n",
       "        vertical-align: middle;\n",
       "    }\n",
       "\n",
       "    .dataframe tbody tr th {\n",
       "        vertical-align: top;\n",
       "    }\n",
       "\n",
       "    .dataframe thead th {\n",
       "        text-align: right;\n",
       "    }\n",
       "</style>\n",
       "<table border=\"1\" class=\"dataframe\">\n",
       "  <thead>\n",
       "    <tr style=\"text-align: right;\">\n",
       "      <th></th>\n",
       "      <th>Meter Number</th>\n",
       "      <th>TDS #</th>\n",
       "      <th>Location</th>\n",
       "      <th>count</th>\n",
       "    </tr>\n",
       "  </thead>\n",
       "  <tbody>\n",
       "    <tr>\n",
       "      <th>32</th>\n",
       "      <td>G17004105</td>\n",
       "      <td>8.0</td>\n",
       "      <td>BLD 02</td>\n",
       "      <td>22</td>\n",
       "    </tr>\n",
       "    <tr>\n",
       "      <th>53</th>\n",
       "      <td>G17004105</td>\n",
       "      <td>8.0</td>\n",
       "      <td>BLD 2</td>\n",
       "      <td>1</td>\n",
       "    </tr>\n",
       "    <tr>\n",
       "      <th>155</th>\n",
       "      <td>E20332250</td>\n",
       "      <td>209.0</td>\n",
       "      <td>104-33 203RD STREET</td>\n",
       "      <td>1</td>\n",
       "    </tr>\n",
       "    <tr>\n",
       "      <th>157</th>\n",
       "      <td>E20332250</td>\n",
       "      <td>209.0</td>\n",
       "      <td>110-26 216TH STREET</td>\n",
       "      <td>84</td>\n",
       "    </tr>\n",
       "    <tr>\n",
       "      <th>185</th>\n",
       "      <td>N30898577</td>\n",
       "      <td>209.0</td>\n",
       "      <td>177-48 BAISLEY BOULEVARD</td>\n",
       "      <td>17</td>\n",
       "    </tr>\n",
       "    <tr>\n",
       "      <th>579</th>\n",
       "      <td>N30898577</td>\n",
       "      <td>354.0</td>\n",
       "      <td>BLD 04</td>\n",
       "      <td>1</td>\n",
       "    </tr>\n",
       "    <tr>\n",
       "      <th>731</th>\n",
       "      <td>K15834341</td>\n",
       "      <td>524.0</td>\n",
       "      <td>BLD 07</td>\n",
       "      <td>13</td>\n",
       "    </tr>\n",
       "    <tr>\n",
       "      <th>732</th>\n",
       "      <td>K15834341</td>\n",
       "      <td>524.0</td>\n",
       "      <td>BLD 7</td>\n",
       "      <td>1</td>\n",
       "    </tr>\n",
       "    <tr>\n",
       "      <th>733</th>\n",
       "      <td>K12499916</td>\n",
       "      <td>525.0</td>\n",
       "      <td>BLD 08</td>\n",
       "      <td>13</td>\n",
       "    </tr>\n",
       "    <tr>\n",
       "      <th>735</th>\n",
       "      <td>K15838320</td>\n",
       "      <td>525.0</td>\n",
       "      <td>BLD 1</td>\n",
       "      <td>1</td>\n",
       "    </tr>\n",
       "    <tr>\n",
       "      <th>736</th>\n",
       "      <td>K15838320</td>\n",
       "      <td>525.0</td>\n",
       "      <td>BLD 10</td>\n",
       "      <td>12</td>\n",
       "    </tr>\n",
       "    <tr>\n",
       "      <th>737</th>\n",
       "      <td>K12499916</td>\n",
       "      <td>525.0</td>\n",
       "      <td>BLD 8</td>\n",
       "      <td>1</td>\n",
       "    </tr>\n",
       "  </tbody>\n",
       "</table>\n",
       "</div>"
      ],
      "text/plain": [
       "    Meter Number  TDS #                  Location  count\n",
       "32     G17004105    8.0                    BLD 02     22\n",
       "53     G17004105    8.0                     BLD 2      1\n",
       "155    E20332250  209.0       104-33 203RD STREET      1\n",
       "157    E20332250  209.0       110-26 216TH STREET     84\n",
       "185    N30898577  209.0  177-48 BAISLEY BOULEVARD     17\n",
       "579    N30898577  354.0                    BLD 04      1\n",
       "731    K15834341  524.0                    BLD 07     13\n",
       "732    K15834341  524.0                     BLD 7      1\n",
       "733    K12499916  525.0                    BLD 08     13\n",
       "735    K15838320  525.0                     BLD 1      1\n",
       "736    K15838320  525.0                    BLD 10     12\n",
       "737    K12499916  525.0                     BLD 8      1"
      ]
     },
     "execution_count": 20,
     "metadata": {},
     "output_type": "execute_result"
    }
   ],
   "source": [
    "# multiple meter location\n",
    "mml_lst = meter_number_building_count_df['Meter Number'] \\\n",
    "            .value_counts()[meter_number_building_count_df['Meter Number'].value_counts() > 1] \\\n",
    "            .index \\\n",
    "            .difference(['UN-METERED']) \\\n",
    "            .to_list()\n",
    "\n",
    "print(mml_lst)\n",
    "\n",
    "meter_number_building_count_df[\n",
    "    meter_number_building_count_df['Meter Number'].isin(mml_lst) \n",
    "]"
   ]
  },
  {
   "cell_type": "code",
   "execution_count": 21,
   "metadata": {},
   "outputs": [
    {
     "data": {
      "text/html": [
       "<div>\n",
       "<style scoped>\n",
       "    .dataframe tbody tr th:only-of-type {\n",
       "        vertical-align: middle;\n",
       "    }\n",
       "\n",
       "    .dataframe tbody tr th {\n",
       "        vertical-align: top;\n",
       "    }\n",
       "\n",
       "    .dataframe thead th {\n",
       "        text-align: right;\n",
       "    }\n",
       "</style>\n",
       "<table border=\"1\" class=\"dataframe\">\n",
       "  <thead>\n",
       "    <tr style=\"text-align: right;\">\n",
       "      <th></th>\n",
       "      <th>TDS #</th>\n",
       "      <th>Location</th>\n",
       "      <th>Meter Number</th>\n",
       "      <th>Development Name</th>\n",
       "      <th>Borough</th>\n",
       "    </tr>\n",
       "  </thead>\n",
       "  <tbody>\n",
       "    <tr>\n",
       "      <th>4785</th>\n",
       "      <td>354.0</td>\n",
       "      <td>BLD 04</td>\n",
       "      <td>N30898577</td>\n",
       "      <td>TAPSCOTT STREET REHAB</td>\n",
       "      <td>FHA</td>\n",
       "    </tr>\n",
       "    <tr>\n",
       "      <th>4786</th>\n",
       "      <td>209.0</td>\n",
       "      <td>177-48 BAISLEY BOULEVARD</td>\n",
       "      <td>N30898577</td>\n",
       "      <td>FHA REPOSSESSED HOUSES (GROUP I)</td>\n",
       "      <td>FHA</td>\n",
       "    </tr>\n",
       "    <tr>\n",
       "      <th>4787</th>\n",
       "      <td>209.0</td>\n",
       "      <td>177-48 BAISLEY BOULEVARD</td>\n",
       "      <td>N30898577</td>\n",
       "      <td>FHA REPOSSESSED HOUSES (GROUP I)</td>\n",
       "      <td>FHA</td>\n",
       "    </tr>\n",
       "    <tr>\n",
       "      <th>4788</th>\n",
       "      <td>209.0</td>\n",
       "      <td>177-48 BAISLEY BOULEVARD</td>\n",
       "      <td>N30898577</td>\n",
       "      <td>FHA REPOSSESSED HOUSES (GROUP I)</td>\n",
       "      <td>FHA</td>\n",
       "    </tr>\n",
       "    <tr>\n",
       "      <th>4789</th>\n",
       "      <td>209.0</td>\n",
       "      <td>177-48 BAISLEY BOULEVARD</td>\n",
       "      <td>N30898577</td>\n",
       "      <td>FHA REPOSSESSED HOUSES (GROUP I)</td>\n",
       "      <td>FHA</td>\n",
       "    </tr>\n",
       "    <tr>\n",
       "      <th>...</th>\n",
       "      <td>...</td>\n",
       "      <td>...</td>\n",
       "      <td>...</td>\n",
       "      <td>...</td>\n",
       "      <td>...</td>\n",
       "    </tr>\n",
       "    <tr>\n",
       "      <th>32757</th>\n",
       "      <td>209.0</td>\n",
       "      <td>110-26 216TH STREET</td>\n",
       "      <td>E20332250</td>\n",
       "      <td>FHA REPOSSESSED HOUSES (GROUP I)</td>\n",
       "      <td>FHA</td>\n",
       "    </tr>\n",
       "    <tr>\n",
       "      <th>32758</th>\n",
       "      <td>209.0</td>\n",
       "      <td>110-26 216TH STREET</td>\n",
       "      <td>E20332250</td>\n",
       "      <td>FHA REPOSSESSED HOUSES (GROUP I)</td>\n",
       "      <td>FHA</td>\n",
       "    </tr>\n",
       "    <tr>\n",
       "      <th>33765</th>\n",
       "      <td>209.0</td>\n",
       "      <td>110-26 216TH STREET</td>\n",
       "      <td>E20332250</td>\n",
       "      <td>FHA REPOSSESSED HOUSES (GROUP I)</td>\n",
       "      <td>FHA</td>\n",
       "    </tr>\n",
       "    <tr>\n",
       "      <th>34079</th>\n",
       "      <td>209.0</td>\n",
       "      <td>110-26 216TH STREET</td>\n",
       "      <td>E20332250</td>\n",
       "      <td>FHA REPOSSESSED HOUSES (GROUP I)</td>\n",
       "      <td>FHA</td>\n",
       "    </tr>\n",
       "    <tr>\n",
       "      <th>34387</th>\n",
       "      <td>209.0</td>\n",
       "      <td>110-26 216TH STREET</td>\n",
       "      <td>E20332250</td>\n",
       "      <td>FHA REPOSSESSED HOUSES (GROUP I)</td>\n",
       "      <td>FHA</td>\n",
       "    </tr>\n",
       "  </tbody>\n",
       "</table>\n",
       "<p>103 rows × 5 columns</p>\n",
       "</div>"
      ],
      "text/plain": [
       "       TDS #                  Location Meter Number  \\\n",
       "4785   354.0                    BLD 04    N30898577   \n",
       "4786   209.0  177-48 BAISLEY BOULEVARD    N30898577   \n",
       "4787   209.0  177-48 BAISLEY BOULEVARD    N30898577   \n",
       "4788   209.0  177-48 BAISLEY BOULEVARD    N30898577   \n",
       "4789   209.0  177-48 BAISLEY BOULEVARD    N30898577   \n",
       "...      ...                       ...          ...   \n",
       "32757  209.0       110-26 216TH STREET    E20332250   \n",
       "32758  209.0       110-26 216TH STREET    E20332250   \n",
       "33765  209.0       110-26 216TH STREET    E20332250   \n",
       "34079  209.0       110-26 216TH STREET    E20332250   \n",
       "34387  209.0       110-26 216TH STREET    E20332250   \n",
       "\n",
       "                       Development Name Borough  \n",
       "4785              TAPSCOTT STREET REHAB     FHA  \n",
       "4786   FHA REPOSSESSED HOUSES (GROUP I)     FHA  \n",
       "4787   FHA REPOSSESSED HOUSES (GROUP I)     FHA  \n",
       "4788   FHA REPOSSESSED HOUSES (GROUP I)     FHA  \n",
       "4789   FHA REPOSSESSED HOUSES (GROUP I)     FHA  \n",
       "...                                 ...     ...  \n",
       "32757  FHA REPOSSESSED HOUSES (GROUP I)     FHA  \n",
       "32758  FHA REPOSSESSED HOUSES (GROUP I)     FHA  \n",
       "33765  FHA REPOSSESSED HOUSES (GROUP I)     FHA  \n",
       "34079  FHA REPOSSESSED HOUSES (GROUP I)     FHA  \n",
       "34387  FHA REPOSSESSED HOUSES (GROUP I)     FHA  \n",
       "\n",
       "[103 rows x 5 columns]"
      ]
     },
     "execution_count": 21,
     "metadata": {},
     "output_type": "execute_result"
    }
   ],
   "source": [
    "# Let's consider meter numbers that looks like they are deployed on different buildings\n",
    "meters = ['E20332250', 'N30898577']\n",
    "\n",
    "columns = ['TDS #', 'Location', 'Meter Number', 'Development Name', 'Borough']\n",
    "\n",
    "# Filtered dataframe to inspect via Data Wrangler tool\n",
    "meter_filtered_df = dataset[\n",
    "    dataset['Meter Number'].isin(meters)\n",
    "][columns]\n",
    "\n",
    "meter_filtered_df"
   ]
  },
  {
   "cell_type": "markdown",
   "metadata": {},
   "source": [
    "Most of the duplicates meters are just errors in the location. There are only two cases where it looks like that the same meter is deployed on two different buildings. Let's consider the triplet *(meter number, tds, location)*:\n",
    "\n",
    "- **(E20332250, 209.0, 104-33 203RD STREET)**: by looking at the *Data Wrangler tool* we can see that the building (209.0, 104-33 203RD STREET) is served by meter *E20257499* since there are 86/87 instances of this building that supports this thesis. We can assume that the actual meter number of this triplet is not *E20332250*, which already serves the building (209.0, 110-26 216TH STREET), but *E20257499*. Since we are not sure we can delete this row.\n",
    "- **(N30898577, 354.0, BLD 04)**: this looks like really strange. Further analysis are required.\n",
    "\n",
    "As a final check we can perform the same operation, previously made for meter number, to check if there are other situations where a building (TDS #, location) is under the administration of different boroughs. This situation looks like an anomaly."
   ]
  },
  {
   "cell_type": "code",
   "execution_count": 22,
   "metadata": {},
   "outputs": [
    {
     "data": {
      "text/plain": [
       "TDS #  Location                 \n",
       "354.0  BLD 04                       2\n",
       "2.0    BLD 09                       1\n",
       "       BLD 13                       1\n",
       "       BLD 21 - Community Center    1\n",
       "       BLD16 - STORE 35-36          1\n",
       "                                   ..\n",
       "531.0  BLD 06                       1\n",
       "547.0  BLD 01                       1\n",
       "       BLD 02                       1\n",
       "559.0  BLD 01                       1\n",
       "2.0    BLD 01                       1\n",
       "Name: count, Length: 526, dtype: int64"
      ]
     },
     "execution_count": 22,
     "metadata": {},
     "output_type": "execute_result"
    }
   ],
   "source": [
    "columns = ['Borough', 'TDS #', 'Location', 'Account Name']\n",
    "\n",
    "dataset \\\n",
    "    .groupby(by=['TDS #', 'Location', 'Borough']) \\\n",
    "            .agg(count=('Account Name', len)) \\\n",
    "            .sort_values('TDS #') \\\n",
    "            .reset_index()[['TDS #', 'Location']] \\\n",
    "            .value_counts()"
   ]
  },
  {
   "cell_type": "markdown",
   "metadata": {},
   "source": [
    "As we can see only the couple (354, BLD 04) shows this anomaly. A quick look using the data wrangler tool shows that 17 instances of this couple are located in Brooklyn and only one is actually under FHA. This is our anomaly that we need to fix. \n",
    "- The row needs to be **removed**."
   ]
  },
  {
   "cell_type": "markdown",
   "metadata": {},
   "source": [
    "## Rate class investigation"
   ]
  },
  {
   "cell_type": "code",
   "execution_count": 23,
   "metadata": {},
   "outputs": [
    {
     "data": {
      "text/plain": [
       "Rate Class\n",
       "Basic Water and Sewer         34521\n",
       "HOT OR COLD WATER IN STORE       90\n",
       "COMMERCIAL                        9\n",
       "WATER-METER                       3\n",
       "MULTIFAMILY                       1\n",
       "Name: count, dtype: int64"
      ]
     },
     "execution_count": 23,
     "metadata": {},
     "output_type": "execute_result"
    }
   ],
   "source": [
    "dataset['Rate Class'].value_counts()"
   ]
  },
  {
   "cell_type": "code",
   "execution_count": 24,
   "metadata": {},
   "outputs": [
    {
     "data": {
      "text/html": [
       "<div>\n",
       "<style scoped>\n",
       "    .dataframe tbody tr th:only-of-type {\n",
       "        vertical-align: middle;\n",
       "    }\n",
       "\n",
       "    .dataframe tbody tr th {\n",
       "        vertical-align: top;\n",
       "    }\n",
       "\n",
       "    .dataframe thead th {\n",
       "        text-align: right;\n",
       "    }\n",
       "</style>\n",
       "<table border=\"1\" class=\"dataframe\">\n",
       "  <thead>\n",
       "    <tr style=\"text-align: right;\">\n",
       "      <th></th>\n",
       "      <th>Development Name</th>\n",
       "      <th>Borough</th>\n",
       "      <th>Account Name</th>\n",
       "      <th>Location</th>\n",
       "      <th>Meter AMR</th>\n",
       "      <th>Meter Scope</th>\n",
       "      <th>TDS #</th>\n",
       "      <th>EDP</th>\n",
       "      <th>RC Code</th>\n",
       "      <th>Funding Source</th>\n",
       "      <th>...</th>\n",
       "      <th>Service End Date</th>\n",
       "      <th># days</th>\n",
       "      <th>Meter Number</th>\n",
       "      <th>Estimated</th>\n",
       "      <th>Current Charges</th>\n",
       "      <th>Rate Class</th>\n",
       "      <th>Bill Analyzed</th>\n",
       "      <th>Consumption (HCF)</th>\n",
       "      <th>Water&amp;Sewer Charges</th>\n",
       "      <th>Other Charges</th>\n",
       "    </tr>\n",
       "  </thead>\n",
       "  <tbody>\n",
       "    <tr>\n",
       "      <th>19977</th>\n",
       "      <td>FRANKLIN AVENUE III CONVENTIONAL</td>\n",
       "      <td>BRONX</td>\n",
       "      <td>FRANKLIN AVENUE III CONVENTIONAL</td>\n",
       "      <td>BLD 7</td>\n",
       "      <td>AMR</td>\n",
       "      <td>NaN</td>\n",
       "      <td>524.0</td>\n",
       "      <td>480</td>\n",
       "      <td>B052400</td>\n",
       "      <td>FEDERAL</td>\n",
       "      <td>...</td>\n",
       "      <td>04/03/2014</td>\n",
       "      <td>11</td>\n",
       "      <td>K15834341</td>\n",
       "      <td>N</td>\n",
       "      <td>1,177.57</td>\n",
       "      <td>NaN</td>\n",
       "      <td>Yes</td>\n",
       "      <td>127</td>\n",
       "      <td>1,177.57</td>\n",
       "      <td>0</td>\n",
       "    </tr>\n",
       "    <tr>\n",
       "      <th>33179</th>\n",
       "      <td>FHA REPOSSESSED HOUSES (GROUP X)</td>\n",
       "      <td>FHA</td>\n",
       "      <td>FHA REPOSSESSED HOUSES (GROUP X)</td>\n",
       "      <td>loc_14</td>\n",
       "      <td>NaN</td>\n",
       "      <td>NaN</td>\n",
       "      <td>284.0</td>\n",
       "      <td>521</td>\n",
       "      <td>Q028400</td>\n",
       "      <td>FEDERAL</td>\n",
       "      <td>...</td>\n",
       "      <td>04/02/2020</td>\n",
       "      <td>90</td>\n",
       "      <td>K96779329</td>\n",
       "      <td>Y</td>\n",
       "      <td>744.06</td>\n",
       "      <td>NaN</td>\n",
       "      <td>Exception</td>\n",
       "      <td>72</td>\n",
       "      <td>744.06</td>\n",
       "      <td>0</td>\n",
       "    </tr>\n",
       "    <tr>\n",
       "      <th>33872</th>\n",
       "      <td>FHA REPOSSESSED HOUSES (GROUP X)</td>\n",
       "      <td>FHA</td>\n",
       "      <td>FHA REPOSSESSED HOUSES (GROUP X)</td>\n",
       "      <td>loc_14</td>\n",
       "      <td>NaN</td>\n",
       "      <td>NaN</td>\n",
       "      <td>284.0</td>\n",
       "      <td>521</td>\n",
       "      <td>Q028400</td>\n",
       "      <td>FEDERAL</td>\n",
       "      <td>...</td>\n",
       "      <td>01/03/2020</td>\n",
       "      <td>80</td>\n",
       "      <td>K96779329</td>\n",
       "      <td>Y</td>\n",
       "      <td>661.38</td>\n",
       "      <td>NaN</td>\n",
       "      <td>Yes</td>\n",
       "      <td>64</td>\n",
       "      <td>661.38</td>\n",
       "      <td>0</td>\n",
       "    </tr>\n",
       "  </tbody>\n",
       "</table>\n",
       "<p>3 rows × 25 columns</p>\n",
       "</div>"
      ],
      "text/plain": [
       "                       Development Name Borough  \\\n",
       "19977  FRANKLIN AVENUE III CONVENTIONAL   BRONX   \n",
       "33179  FHA REPOSSESSED HOUSES (GROUP X)     FHA   \n",
       "33872  FHA REPOSSESSED HOUSES (GROUP X)     FHA   \n",
       "\n",
       "                           Account Name Location Meter AMR Meter Scope  TDS #  \\\n",
       "19977  FRANKLIN AVENUE III CONVENTIONAL    BLD 7       AMR         NaN  524.0   \n",
       "33179  FHA REPOSSESSED HOUSES (GROUP X)   loc_14       NaN         NaN  284.0   \n",
       "33872  FHA REPOSSESSED HOUSES (GROUP X)   loc_14       NaN         NaN  284.0   \n",
       "\n",
       "       EDP  RC Code Funding Source  ... Service End Date # days  Meter Number  \\\n",
       "19977  480  B052400        FEDERAL  ...       04/03/2014     11     K15834341   \n",
       "33179  521  Q028400        FEDERAL  ...       04/02/2020     90     K96779329   \n",
       "33872  521  Q028400        FEDERAL  ...       01/03/2020     80     K96779329   \n",
       "\n",
       "      Estimated Current Charges Rate Class Bill Analyzed Consumption (HCF)  \\\n",
       "19977         N        1,177.57        NaN           Yes               127   \n",
       "33179         Y          744.06        NaN     Exception                72   \n",
       "33872         Y          661.38        NaN           Yes                64   \n",
       "\n",
       "      Water&Sewer Charges Other Charges  \n",
       "19977            1,177.57             0  \n",
       "33179              744.06             0  \n",
       "33872              661.38             0  \n",
       "\n",
       "[3 rows x 25 columns]"
      ]
     },
     "execution_count": 24,
     "metadata": {},
     "output_type": "execute_result"
    }
   ],
   "source": [
    "dataset[dataset['Rate Class'].isna()]"
   ]
  },
  {
   "cell_type": "markdown",
   "metadata": {},
   "source": [
    "## What about outliers?\n",
    "\n",
    "Those will be analyzed directly in the pre-processing notebook. The scope of this notebook was to: \n",
    "1. Identify why some columns are null;\n",
    "2. Identify strange values in some attributes.\n",
    "\n",
    "## Pre-processing strategy\n",
    "\n",
    "Read the notes on dict.xlsx."
   ]
  }
 ],
 "metadata": {
  "kernelspec": {
   "display_name": "Python 3",
   "language": "python",
   "name": "python3"
  },
  "language_info": {
   "codemirror_mode": {
    "name": "ipython",
    "version": 3
   },
   "file_extension": ".py",
   "mimetype": "text/x-python",
   "name": "python",
   "nbconvert_exporter": "python",
   "pygments_lexer": "ipython3",
   "version": "3.12.2"
  }
 },
 "nbformat": 4,
 "nbformat_minor": 2
}
